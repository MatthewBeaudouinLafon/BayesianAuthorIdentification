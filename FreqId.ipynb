{
 "cells": [
  {
   "cell_type": "markdown",
   "metadata": {},
   "source": [
    "# Author Identification\n",
    "#### Carl Moser, Matthew Beaudouin-Lafon\n",
    "\n",
    "We did stuff to do things with doodas."
   ]
  },
  {
   "cell_type": "code",
   "execution_count": 5,
   "metadata": {
    "collapsed": false
   },
   "outputs": [],
   "source": [
    "from thinkbayes2 import Suite\n",
    "from pickle import load\n",
    "import thinkplot\n",
    "\n",
    "def getPickle(fileName):\n",
    "    infile = open('DATs/' + fileName, 'rb+')\n",
    "    chain = load(infile)\n",
    "    wordCount = load(infile)\n",
    "    author = load(infile)\n",
    "    infile.close()\n",
    "    return (chain, wordCount, author)\n",
    "\n",
    "class AuthorId(Suite):\n",
    "    \"\"\"\n",
    "    Bayesian model for author identification. Uses Markov chains generated from texts who's authors are known as a likelihood function.\n",
    "    Has a list of {author : MarkovChain objects}\n",
    "    \"\"\"\n",
    "    def __init__(self):\n",
    "        self.markovChains = {}\n",
    "        self.totalWords = 0\n",
    "        Suite.__init__(self)\n",
    "    \n",
    "    def isWorthChecking(self, word):\n",
    "        worth = True\n",
    "        for author, prob in self.Items():\n",
    "            wordCount = self.markovChains[author][1]\n",
    "            worth = worth and bool(wordCount.get(word))\n",
    "        return worth\n",
    "                \n",
    "    def Likelihood(self, data, hypo):\n",
    "        \"\"\"\n",
    "        data: (string, string)\n",
    "        hypo: (Markov Chain, Word Count dictionary, Author)\n",
    "        \"\"\"\n",
    "        hypoAuthor = hypo\n",
    "        chain, wordCount = self.markovChains[hypoAuthor]\n",
    "        word = data\n",
    "            \n",
    "        return wordCount[word]"
   ]
  },
  {
   "cell_type": "code",
   "execution_count": 6,
   "metadata": {
    "collapsed": false
   },
   "outputs": [],
   "source": [
    "files = ['Frankenstein.dat', 'GreatExpectations.dat', 'RomeoAndJuliet.dat', 'MobyDick.dat', \"The Hitch Hiker's Guide to the Galaxy.dat\", 'Twilight.dat']\n",
    "\n",
    "authorId = AuthorId()\n",
    "\n",
    "for file in files:\n",
    "    chain, wordCount, author = getPickle(file)\n",
    "    authorId[author] = 1\n",
    "    authorId.markovChains[author] = (chain, wordCount)\n",
    "    authorId.totalWords = sum(wordCount.values())"
   ]
  },
  {
   "cell_type": "code",
   "execution_count": 12,
   "metadata": {
    "collapsed": false,
    "scrolled": true
   },
   "outputs": [],
   "source": [
    "f = open('testText.dat', 'rb')\n",
    "testText = load(f)\n",
    "f.close()"
   ]
  },
  {
   "cell_type": "code",
   "execution_count": 13,
   "metadata": {
    "collapsed": false,
    "scrolled": false
   },
   "outputs": [
    {
     "name": "stdout",
     "output_type": "stream",
     "text": [
      "Charles Dickens 4.860197789227251e-43\n",
      "Douglas Adams 0.0\n",
      "Herman Melville 1.0\n",
      "Mary Shelley 6.334662243176631e-212\n",
      "Shakespeare 1.5844206093958314e-246\n",
      "Stephenie Meyer 9.450347529934758e-162\n"
     ]
    }
   ],
   "source": [
    "for author, prob in authorId.Items():\n",
    "    authorId[author] = 1\n",
    "    \n",
    "authorId.Normalize()\n",
    "maryV = []\n",
    "charlesV = []\n",
    "shakeV = []\n",
    "totalWords = 0\n",
    "for sentence in testText:\n",
    "    sentence = ['*'] + sentence\n",
    "    for word in sentence:\n",
    "        totalWords += 1\n",
    "        if authorId.isWorthChecking(word):\n",
    "            authorId.Update(word)\n",
    "            authorId.markovChains[]\n",
    "            \n",
    "        maryV.append(authorId['Mary Shelley'])\n",
    "        charlesV.append(authorId['Charles Dickens'])\n",
    "        shakeV.append(authorId['Shakespeare'])\n",
    "        \n",
    "authorId.Print()"
   ]
  },
  {
   "cell_type": "code",
   "execution_count": 14,
   "metadata": {
    "collapsed": false
   },
   "outputs": [
    {
     "data": {
      "image/png": "[encoded data removed]",
      "text/plain": [
       "<matplotlib.figure.Figure at 0x7f991614def0>"
      ]
     },
     "metadata": {},
     "output_type": "display_data"
    }
   ],
   "source": [
    "import matplotlib.pyplot as plt\n",
    "\n",
    "#for i in (shakeV):\n",
    "#    print(str(i) + ', ')\n",
    "x = range(0, len(maryV))\n",
    "plt.xlabel('Update')\n",
    "plt.ylabel('Probability')\n",
    "plt.plot(x, maryV, label='Mary')\n",
    "plt.plot(x, charlesV, label='Charles')\n",
    "plt.plot(x, shakeV, label='Shakespeare')\n",
    "plt.legend(bbox_to_anchor=(0., 1.02, 1., .102), loc=3,\n",
    "           ncol=2, mode=\"expand\", borderaxespad=0.)\n",
    "plt.show()\n",
    "# for fuck, shit in zip(maryV, charlesV):\n",
    "#     print(fuck, shit)\n",
    "# authorId"
   ]
  },
  {
   "cell_type": "code",
   "execution_count": 9,
   "metadata": {
    "collapsed": false
   },
   "outputs": [
    {
     "name": "stdout",
     "output_type": "stream",
     "text": [
      "0.000672185089417\n"
     ]
    }
   ],
   "source": [
    "chainC = authorId.markovChains['Charles Dickens'][0]\n",
    "countC = authorId.markovChains['Charles Dickens'][1]\n",
    "\n",
    "print(countC['can']/float(sum(countC.values())))"
   ]
  },
  {
   "cell_type": "markdown",
   "metadata": {},
   "source": [
    "Questions:\n",
    "    - What to do with words that aren't there?\n",
    "    - \"To\" appears a lot more than other words. Should it be weighed differently?\n",
    "    - Integrate sentence lengths"
   ]
  }
 ],
 "metadata": {
  "anaconda-cloud": {},
  "kernelspec": {
   "display_name": "Python 2",
   "language": "python",
   "name": "python2"
  },
  "language_info": {
   "codemirror_mode": {
    "name": "ipython",
    "version": 2
   },
   "file_extension": ".py",
   "mimetype": "text/x-python",
   "name": "python",
   "nbconvert_exporter": "python",
   "pygments_lexer": "ipython2",
   "version": "2.7.6"
  }
 },
 "nbformat": 4,
 "nbformat_minor": 1
}
