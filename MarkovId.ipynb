{
 "cells": [
  {
   "cell_type": "markdown",
   "metadata": {},
   "source": [
    "# Author Identification\n",
    "#### Carl Moser, Matthew Beaudouin-Lafon\n",
    "\n",
    "We did stuff to do things with doodas."
   ]
  },
  {
   "cell_type": "code",
   "execution_count": 1,
   "metadata": {
    "collapsed": false
   },
   "outputs": [],
   "source": [
    "from thinkbayes2 import Suite\n",
    "from pickle import load\n",
    "import thinkplot\n",
    "\n",
    "def getPickle(fileName):\n",
    "    \"\"\"\n",
    "    Unpacks pickled into Markov Chain object\n",
    "    \n",
    "    Takes fileName as a string\n",
    "    Return (chain, wordCount, author)\n",
    "    \"\"\"\n",
    "    infile = open(fileName, 'rb+')\n",
    "    chain = load(infile)\n",
    "    wordCount = load(infile)\n",
    "    author = load(infile)\n",
    "    infile.close()\n",
    "    return (chain, wordCount, author)\n",
    "\n",
    "class MarkovId(Suite):\n",
    "    \"\"\"\n",
    "    Bayesian model for author identification. Uses Markov chains generated from texts who's authors are known as a likelihood function.\n",
    "    Has a list of {author : MarkovChain objects}\n",
    "    \"\"\"\n",
    "                \n",
    "    def Likelihood(self, data, hypo):\n",
    "        \"\"\"\n",
    "        data: (string, string)\n",
    "        hypo: (Markov Chain, Word Count dictionary, Author)\n",
    "        \"\"\"\n",
    "        hypoAuthor = hypo\n",
    "        chain, wordCount = self.markovChains[hypoAuthor]\n",
    "        prevWord, word = data\n",
    "        \n",
    "        try:\n",
    "            like = chain[prevWord][word]/float(wordCount[prevWord])\n",
    "        except:\n",
    "            print('isWorthChecking failed to check this pair of words')\n",
    "            raise\n",
    "            \n",
    "        return like\n",
    "    \n",
    "    def isWorthChecking(self, prevWord, word):\n",
    "        \"\"\"\n",
    "        Returns boolean based on whether a word is useful for bayesian update.\n",
    "        A word is useful if it is found in the Markov Chain. \n",
    "        \"\"\"\n",
    "        worth = True\n",
    "        for author, prob in self.Items():                   # Check every author\n",
    "            chain = self.markovChains[author][0]\n",
    "            worth = worth and (bool(chain.get(prevWord))        # Check the chain has prevWord\n",
    "                          and bool(chain[prevWord].get(word)))  # And the sequence (prevWord, word)\n",
    "\n",
    "        return worth"
   ]
  },
  {
   "cell_type": "code",
   "execution_count": 2,
   "metadata": {
    "collapsed": false
   },
   "outputs": [],
   "source": [
    "# files = ['Frankenstein', 'GreatExpecations', 'Hamlet', 'MobyDick', 'PierreAmbiguities', 'RomeoAndJuliet']\n",
    "files = ['Frankenstein.dat', 'GreatExpectations.dat', 'RomeoAndJuliet.dat', 'MobyDick.dat', \"The Hitch Hiker's Guide to the Galaxy.dat\", 'Twilight.dat']\n",
    "\n",
    "markovId = MarkovId()\n",
    "markovId.markovChains = {}\n",
    "\n",
    "for f in files:\n",
    "    chain, wordCount, author = getPickle(f)\n",
    "    markovId[author] = 1\n",
    "    markovId.markovChains[author] = (chain, wordCount)"
   ]
  },
  {
   "cell_type": "code",
   "execution_count": 3,
   "metadata": {
    "collapsed": false,
    "scrolled": true
   },
   "outputs": [],
   "source": [
    "f = open('testText.dat', 'rb')\n",
    "testText = load(f)\n",
    "f.close()"
   ]
  },
  {
   "cell_type": "code",
   "execution_count": 4,
   "metadata": {
    "collapsed": false,
    "scrolled": false
   },
   "outputs": [
    {
     "name": "stdout",
     "output_type": "stream",
     "text": [
      "Douglas Adams 0.9992901952649592\n",
      "Shakespeare 3.4992332301237595e-13\n",
      "Mary Shelley 0.00065837006619195\n",
      "Charles Dickens 4.626484382305717e-12\n",
      "Herman Melville 5.1433015508516726e-05\n",
      "Stephenie Meyer 1.6483639544951336e-09\n"
     ]
    }
   ],
   "source": [
    "# Reset the Suite\n",
    "for author, prob in markovId.Items():\n",
    "    markovId[author] = 1\n",
    "    \n",
    "markovId.Normalize()\n",
    "\n",
    "maryV = []\n",
    "charlesV = []\n",
    "shakeV = []\n",
    "\n",
    "for sentence in testText:\n",
    "    sentence = ['*'] + sentence # * represents the beginning of a sentence in the Markov Chain\n",
    "    \n",
    "    for i in range(len(sentence) - 1):          \n",
    "        if markovId.isWorthChecking(sentence[i], sentence[i + 1]): # Check that the words are worth checking\n",
    "            markovId.Update((sentence[i], sentence[i + 1]))        # Perform the Update\n",
    "            \n",
    "        maryV.append(markovId['Mary Shelley'])\n",
    "        charlesV.append(markovId['Charles Dickens'])\n",
    "        shakeV.append(markovId['Shakespeare'])\n",
    "        \n",
    "# Print the authors and their likelihoods nicely\n",
    "for key, value in markovId.Items():\n",
    "    print(key, value)"
   ]
  },
  {
   "cell_type": "code",
   "execution_count": 5,
   "metadata": {
    "collapsed": false
   },
   "outputs": [
    {
     "data": {
      "image/png": "[encoded data removed]",
      "text/plain": [
       "<matplotlib.figure.Figure at 0x7fa8f85e1080>"
      ]
     },
     "metadata": {},
     "output_type": "display_data"
    }
   ],
   "source": [
    "import matplotlib.pyplot as plt\n",
    "\n",
    "#for i in (shakeV):\n",
    "#    print(str(i) + ', ')\n",
    "x = range(0, len(maryV))\n",
    "plt.xlabel('Update')\n",
    "plt.ylabel('Probability')\n",
    "plt.plot(x, maryV, label='Mary')\n",
    "plt.plot(x, charlesV, label='Charles')\n",
    "plt.plot(x, shakeV, label='Shakespeare')\n",
    "plt.legend(bbox_to_anchor=(0., 1.02, 1., .102), loc=3,\n",
    "           ncol=2, mode=\"expand\", borderaxespad=0.)\n",
    "plt.show()\n",
    "plt.clf()\n",
    "# for fuck, shit in zip(maryV, charlesV):\n",
    "#     print(fuck, shit)\n",
    "# authorId"
   ]
  },
  {
   "cell_type": "code",
   "execution_count": null,
   "metadata": {
    "collapsed": false
   },
   "outputs": [],
   "source": [
    "chainC = authorId.markovChains['Charles Dickens'][0]\n",
    "countC = authorId.markovChains['Charles Dickens'][1]\n",
    "\n",
    "chainM = authorId.markovChains['Mary Shelley'][0]\n",
    "countM = authorId.markovChains['Mary Shelley'][1]\n",
    "\n",
    "chainS = authorId.markovChains['Shakespeare'][0]\n",
    "countS = authorId.markovChains['Shakespeare'][1]\n",
    "\n",
    "print(chainS['when']['i'])"
   ]
  },
  {
   "cell_type": "markdown",
   "metadata": {},
   "source": [
    "Questions:\n",
    "    - What to do with words that aren't there?\n",
    "    - \"To\" appears a lot more than other words. Should it be weighed differently?\n",
    "    - Integrate sentence lengths"
   ]
  }
 ],
 "metadata": {
  "anaconda-cloud": {},
  "kernelspec": {
   "display_name": "Python [conda env:py3k]",
   "language": "python",
   "name": "conda-env-py3k-py"
  },
  "language_info": {
   "codemirror_mode": {
    "name": "ipython",
    "version": 3
   },
   "file_extension": ".py",
   "mimetype": "text/x-python",
   "name": "python",
   "nbconvert_exporter": "python",
   "pygments_lexer": "ipython3",
   "version": "3.5.2"
  }
 },
 "nbformat": 4,
 "nbformat_minor": 1
}
