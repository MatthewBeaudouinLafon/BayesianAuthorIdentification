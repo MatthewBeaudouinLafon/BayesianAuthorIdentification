{
 "cells": [
  {
   "cell_type": "markdown",
   "metadata": {},
   "source": [
    "# Author Identification\n",
    "#### Carl Moser, Matthew Beaudouin-Lafon\n",
    "\n",
    "We did stuff to do things with doodas."
   ]
  },
  {
   "cell_type": "code",
   "execution_count": 5,
   "metadata": {
    "collapsed": false
   },
   "outputs": [],
   "source": [
    "from thinkbayes2 import Suite\n",
    "from pickle import load\n",
    "import thinkplot\n",
    "\n",
    "def getPickle(fileName):\n",
    "    infile = open(fileName, 'rb+')\n",
    "    chain = load(infile)\n",
    "    wordCount = load(infile)\n",
    "    author = load(infile)\n",
    "    infile.close()\n",
    "    return (chain, wordCount, author)\n",
    "\n",
    "def isWorthChecking(prevWord, word):\n",
    "    \"\"\"\n",
    "    Checks whether a word is useful for bayesian update.\n",
    "    A word is useful if it is found in the Markov Chain. \n",
    "    \"\"\"\n",
    "    worth = True\n",
    "    for author, prob in authorId.Items():\n",
    "        chain = authorId.markovChains[author][0]\n",
    "        worth = worth and (bool(chain.get(prevWord)) \n",
    "                      and bool(chain[prevWord].get(word)))\n",
    "        \n",
    "    return worth\n",
    "\n",
    "class AuthorId(Suite):\n",
    "    \"\"\"\n",
    "    Bayesian model for author identification. Uses Markov chains generated from texts who's authors are known as a likelihood function.\n",
    "    Has a list of {author : MarkovChain objects}\n",
    "    \"\"\"\n",
    "                \n",
    "    def Likelihood(self, data, hypo):\n",
    "        \"\"\"\n",
    "        data: (string, string)\n",
    "        hypo: (Markov Chain, Word Count dictionary, Author)\n",
    "        \"\"\"\n",
    "        hypoAuthor = hypo\n",
    "        chain, wordCount = self.markovChains[hypoAuthor]\n",
    "        prevWord, word = data\n",
    "        \n",
    "        if (chain.get(prevWord) and chain[prevWord].get(word)):\n",
    "            like = chain[prevWord][word]/float(wordCount[prevWord])\n",
    "        else:      \n",
    "            like = -1 # If isWorthChecking fails, this will throw an error\n",
    "            \n",
    "        return like"
   ]
  },
  {
   "cell_type": "code",
   "execution_count": 6,
   "metadata": {
    "collapsed": false
   },
   "outputs": [],
   "source": [
    "# files = ['Frankenstein', 'GreatExpecations', 'Hamlet', 'MobyDick', 'PierreAmbiguities', 'RomeoAndJuliet']\n",
    "files = ['Frankenstein.dat', 'GreatExpectations.dat', 'RomeoAndJuliet.dat', 'MobyDick.dat', \"The Hitch Hiker's Guide to the Galaxy.dat\", 'Twilight.dat']\n",
    "\n",
    "authorId = AuthorId()\n",
    "authorId.markovChains = {}\n",
    "\n",
    "for f in files:\n",
    "    chain, wordCount, author = getPickle(f)\n",
    "    authorId[author] = 1\n",
    "    authorId.markovChains[author] = (chain, wordCount)"
   ]
  },
  {
   "cell_type": "code",
   "execution_count": 7,
   "metadata": {
    "collapsed": false,
    "scrolled": true
   },
   "outputs": [],
   "source": [
    "f = open('testText.dat', 'rb')\n",
    "testText = load(f)\n",
    "f.close()"
   ]
  },
  {
   "cell_type": "code",
   "execution_count": 8,
   "metadata": {
    "collapsed": false,
    "scrolled": false
   },
   "outputs": [
    {
     "name": "stdout",
     "output_type": "stream",
     "text": [
      "Herman Melville 0.16666666666666666\n",
      "Douglas Adams 0.16666666666666666\n",
      "Mary Shelley 0.16666666666666666\n",
      "Stephenie Meyer 0.16666666666666666\n",
      "Charles Dickens 0.16666666666666666\n",
      "Shakespeare 0.16666666666666666\n"
     ]
    }
   ],
   "source": [
    "for author, prob in authorId.Items():\n",
    "    authorId[author] = 1\n",
    "    \n",
    "authorId.Normalize()\n",
    "maryV = []\n",
    "charlesV = []\n",
    "shakeV = []\n",
    "totalWords = 0\n",
    "for sentence in testText:\n",
    "    sentence = ['*'] + sentence\n",
    "    for i in range(len(sentence) - 1):\n",
    "        totalWords += 1\n",
    "            \n",
    "        if isWorthChecking(sentence[i], sentence[i + 1]):\n",
    "            authorId.Update((sentence[i], sentence[i + 1]))\n",
    "            \n",
    "        #Testing        \n",
    "#         if totalWords == 233:\n",
    "#         print((sentence[i], sentence[i + 1]), isWorthChecking(sentence[i], sentence[i + 1]))\n",
    "            \n",
    "        maryV.append(authorId['Mary Shelley'])\n",
    "        charlesV.append(authorId['Charles Dickens'])\n",
    "        shakeV.append(authorId['Shakespeare'])\n",
    "        \n",
    "for key, value in authorId.Items():\n",
    "    print(key, value)"
   ]
  },
  {
   "cell_type": "code",
   "execution_count": 10,
   "metadata": {
    "collapsed": false
   },
   "outputs": [
    {
     "data": {
      "image/png": "[encoded data removed]",
      "text/plain": [
       "<matplotlib.figure.Figure at 0x7fd6296eeda0>"
      ]
     },
     "metadata": {},
     "output_type": "display_data"
    }
   ],
   "source": [
    "import matplotlib.pyplot as plt\n",
    "\n",
    "#for i in (shakeV):\n",
    "#    print(str(i) + ', ')\n",
    "x = range(0, len(maryV))\n",
    "plt.xlabel('Update')\n",
    "plt.ylabel('Probability')\n",
    "plt.plot(x, maryV, label='Mary')\n",
    "plt.plot(x, charlesV, label='Charles')\n",
    "plt.plot(x, shakeV, label='Shakespeare')\n",
    "plt.legend(bbox_to_anchor=(0., 1.02, 1., .102), loc=3,\n",
    "           ncol=2, mode=\"expand\", borderaxespad=0.)\n",
    "plt.show()\n",
    "plt.clf()\n",
    "# for fuck, shit in zip(maryV, charlesV):\n",
    "#     print(fuck, shit)\n",
    "# authorId"
   ]
  },
  {
   "cell_type": "code",
   "execution_count": 11,
   "metadata": {
    "collapsed": false
   },
   "outputs": [
    {
     "name": "stdout",
     "output_type": "stream",
     "text": [
      "12\n"
     ]
    }
   ],
   "source": [
    "chainC = authorId.markovChains['Charles Dickens'][0]\n",
    "countC = authorId.markovChains['Charles Dickens'][1]\n",
    "\n",
    "chainM = authorId.markovChains['Mary Shelley'][0]\n",
    "countM = authorId.markovChains['Mary Shelley'][1]\n",
    "\n",
    "chainS = authorId.markovChains['Shakespeare'][0]\n",
    "countS = authorId.markovChains['Shakespeare'][1]\n",
    "\n",
    "print(chainS['when']['i'])"
   ]
  },
  {
   "cell_type": "markdown",
   "metadata": {},
   "source": [
    "Questions:\n",
    "    - What to do with words that aren't there?\n",
    "    - \"To\" appears a lot more than other words. Should it be weighed differently?\n",
    "    - Integrate sentence lengths"
   ]
  }
 ],
 "metadata": {
  "anaconda-cloud": {},
  "kernelspec": {
   "display_name": "Python [conda env:py3k]",
   "language": "python",
   "name": "conda-env-py3k-py"
  },
  "language_info": {
   "codemirror_mode": {
    "name": "ipython",
    "version": 3
   },
   "file_extension": ".py",
   "mimetype": "text/x-python",
   "name": "python",
   "nbconvert_exporter": "python",
   "pygments_lexer": "ipython3",
   "version": "3.5.2"
  }
 },
 "nbformat": 4,
 "nbformat_minor": 1
}
