{
 "cells": [
  {
   "cell_type": "markdown",
   "metadata": {},
   "source": [
    "# Author Identification\n",
    "#### Carl Moser, Matthew Beaudouin-Lafon\n",
    "\n",
    "We did stuff to do things with doodas."
   ]
  },
  {
   "cell_type": "code",
   "execution_count": 3,
   "metadata": {
    "collapsed": false
   },
   "outputs": [
    {
     "ename": "IndentationError",
     "evalue": "expected an indented block (<ipython-input-3-21dc3fbe10bf>, line 15)",
     "output_type": "error",
     "traceback": [
      "\u001b[0;36m  File \u001b[0;32m\"<ipython-input-3-21dc3fbe10bf>\"\u001b[0;36m, line \u001b[0;32m15\u001b[0m\n\u001b[0;31m    def Likelihood(self, data, hypo):\u001b[0m\n\u001b[0m                                     ^\u001b[0m\n\u001b[0;31mIndentationError\u001b[0m\u001b[0;31m:\u001b[0m expected an indented block\n"
     ]
    }
   ],
   "source": [
    "from thinkbayes2 import Suite\n",
    "\n",
    "class AuthorId(Suite):\n",
    "    \"\"\"\n",
    "    \n",
    "    \"\"\"\n",
    "#     def __init__(self, chainList):\n",
    "#         self.authors = []\n",
    "#         self.chains = []\n",
    "#         self.wordCounts = []\n",
    "        \n",
    "#         for markov in chainList:\n",
    "#             self.authors.append(markov.author)\n",
    "#             self.chains.append(markov.chain)\n",
    "#             self.wordCounts.append(markov.wordCount)\n",
    "                \n",
    "    def Likelihood(self, data, hypo):\n",
    "        \"\"\"\n",
    "        data: (string, string)\n",
    "        hypo: (Markov Chain, Word Count dictionary, Author)\n",
    "        \"\"\"\n",
    "        hypoAuthor = hypo\n",
    "        chain, wordCount = markovChains[hypoAuthor]\n",
    "        prevWord, word, dataAuthor = data\n",
    "        \n",
    "        if not (chain.get(prevWord) or chain[prevWord].get(word)):\n",
    "            return 0.01 # It's 0.01 because 0.01 is a number\n",
    "        \n",
    "        return chain[prevWord][word]/float(wordCount[word])"
   ]
  },
  {
   "cell_type": "code",
   "execution_count": 4,
   "metadata": {
    "collapsed": false
   },
   "outputs": [
    {
     "ename": "NameError",
     "evalue": "name 'Hamlet' is not defined",
     "output_type": "error",
     "traceback": [
      "\u001b[0;31m---------------------------------------------------------------------------\u001b[0m",
      "\u001b[0;31mNameError\u001b[0m                                 Traceback (most recent call last)",
      "\u001b[0;32m<ipython-input-4-a025554c8133>\u001b[0m in \u001b[0;36m<module>\u001b[0;34m()\u001b[0m\n\u001b[0;32m----> 1\u001b[0;31m \u001b[0mHamlet\u001b[0m \u001b[0;31m# Test\u001b[0m\u001b[0;34m\u001b[0m\u001b[0m\n\u001b[0m\u001b[1;32m      2\u001b[0m \u001b[0;34m\u001b[0m\u001b[0m\n\u001b[1;32m      3\u001b[0m \u001b[0mgreatExp\u001b[0m\u001b[0;34m.\u001b[0m\u001b[0mchains\u001b[0m\u001b[0;34m\u001b[0m\u001b[0m\n\u001b[1;32m      4\u001b[0m \u001b[0mgreatExp\u001b[0m\u001b[0;34m.\u001b[0m\u001b[0mwordCount\u001b[0m\u001b[0;34m\u001b[0m\u001b[0m\n\u001b[1;32m      5\u001b[0m \u001b[0;34m\u001b[0m\u001b[0m\n",
      "\u001b[0;31mNameError\u001b[0m: name 'Hamlet' is not defined"
     ]
    }
   ],
   "source": [
    "Hamlet # Test\n",
    "\n",
    "greatExp.chains\n",
    "greatExp.wordCount\n",
    "\n",
    "mobyDick.chains\n",
    "mobyDick.wordCount\n",
    "\n",
    "authorId = AuthorId(['Shakespeare', 'Charles Dickens'])\n",
    "authorId.markovChains = {\n",
    "    'Shakespeare' : (romeoJuliet.chains, romeoJuliet.wordCount)\n",
    "}"
   ]
  },
  {
   "cell_type": "markdown",
   "metadata": {},
   "source": [
    "Questions:\n",
    "    - What to do with words that aren't there?\n",
    "    - \"To\" appears a lot more than other words. Should it be weighed differently?"
   ]
  }
 ],
 "metadata": {
  "kernelspec": {
   "display_name": "Python 2",
   "language": "python",
   "name": "python2"
  },
  "language_info": {
   "codemirror_mode": {
    "name": "ipython",
    "version": 2
   },
   "file_extension": ".py",
   "mimetype": "text/x-python",
   "name": "python",
   "nbconvert_exporter": "python",
   "pygments_lexer": "ipython2",
   "version": "2.7.6"
  }
 },
 "nbformat": 4,
 "nbformat_minor": 1
}
